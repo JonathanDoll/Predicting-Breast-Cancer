{
 "metadata": {
  "name": "",
  "signature": "sha256:6b10ff813771fbe6e21ea00f950c1325903f8ce61bba08cc8b332111717eab89"
 },
 "nbformat": 3,
 "nbformat_minor": 0,
 "worksheets": [
  {
   "cells": [
    {
     "cell_type": "markdown",
     "metadata": {},
     "source": [
      "##Predicting Breast Cancer"
     ]
    },
    {
     "cell_type": "code",
     "collapsed": false,
     "input": [
      "import pandas as pnd\n",
      "from sklearn.ensemble import RandomForestRegressor\n",
      "from sklearn.metrics import roc_auc_score\n",
      "from sklearn.metrics import classification_report\n",
      "%pylab inline"
     ],
     "language": "python",
     "metadata": {},
     "outputs": [
      {
       "output_type": "stream",
       "stream": "stdout",
       "text": [
        "Populating the interactive namespace from numpy and matplotlib\n"
       ]
      }
     ],
     "prompt_number": 1
    },
    {
     "cell_type": "code",
     "collapsed": false,
     "input": [
      "data = pnd.read_csv(\"breast_cancer.csv\")"
     ],
     "language": "python",
     "metadata": {},
     "outputs": [],
     "prompt_number": 2
    },
    {
     "cell_type": "code",
     "collapsed": false,
     "input": [
      "data"
     ],
     "language": "python",
     "metadata": {},
     "outputs": [
      {
       "html": [
        "<div style=\"max-height:1000px;max-width:1500px;overflow:auto;\">\n",
        "<table border=\"1\" class=\"dataframe\">\n",
        "  <thead>\n",
        "    <tr style=\"text-align: right;\">\n",
        "      <th></th>\n",
        "      <th>Unnamed: 0</th>\n",
        "      <th>id number</th>\n",
        "      <th>clump_thickness</th>\n",
        "      <th>uniformity_of_cell_size</th>\n",
        "      <th>uniformity_of_cell_shape</th>\n",
        "      <th>marginal_adhesion</th>\n",
        "      <th>epithelial_cell_size</th>\n",
        "      <th>bare_nuclei</th>\n",
        "      <th>bland_chromatin</th>\n",
        "      <th>normal_nucleoli</th>\n",
        "      <th>mitoses</th>\n",
        "      <th>malignant</th>\n",
        "    </tr>\n",
        "  </thead>\n",
        "  <tbody>\n",
        "    <tr>\n",
        "      <th>0  </th>\n",
        "      <td>   0</td>\n",
        "      <td> 1000025</td>\n",
        "      <td>  5</td>\n",
        "      <td>  1</td>\n",
        "      <td>  1</td>\n",
        "      <td>  1</td>\n",
        "      <td> 2</td>\n",
        "      <td>  1</td>\n",
        "      <td>  3</td>\n",
        "      <td>  1</td>\n",
        "      <td> 1</td>\n",
        "      <td> 0</td>\n",
        "    </tr>\n",
        "    <tr>\n",
        "      <th>1  </th>\n",
        "      <td>   1</td>\n",
        "      <td> 1002945</td>\n",
        "      <td>  5</td>\n",
        "      <td>  4</td>\n",
        "      <td>  4</td>\n",
        "      <td>  5</td>\n",
        "      <td> 7</td>\n",
        "      <td> 10</td>\n",
        "      <td>  3</td>\n",
        "      <td>  2</td>\n",
        "      <td> 1</td>\n",
        "      <td> 0</td>\n",
        "    </tr>\n",
        "    <tr>\n",
        "      <th>2  </th>\n",
        "      <td>   2</td>\n",
        "      <td> 1015425</td>\n",
        "      <td>  3</td>\n",
        "      <td>  1</td>\n",
        "      <td>  1</td>\n",
        "      <td>  1</td>\n",
        "      <td> 2</td>\n",
        "      <td>  2</td>\n",
        "      <td>  3</td>\n",
        "      <td>  1</td>\n",
        "      <td> 1</td>\n",
        "      <td> 0</td>\n",
        "    </tr>\n",
        "    <tr>\n",
        "      <th>3  </th>\n",
        "      <td>   3</td>\n",
        "      <td> 1016277</td>\n",
        "      <td>  6</td>\n",
        "      <td>  8</td>\n",
        "      <td>  8</td>\n",
        "      <td>  1</td>\n",
        "      <td> 3</td>\n",
        "      <td>  4</td>\n",
        "      <td>  3</td>\n",
        "      <td>  7</td>\n",
        "      <td> 1</td>\n",
        "      <td> 0</td>\n",
        "    </tr>\n",
        "    <tr>\n",
        "      <th>4  </th>\n",
        "      <td>   4</td>\n",
        "      <td> 1017023</td>\n",
        "      <td>  4</td>\n",
        "      <td>  1</td>\n",
        "      <td>  1</td>\n",
        "      <td>  3</td>\n",
        "      <td> 2</td>\n",
        "      <td>  1</td>\n",
        "      <td>  3</td>\n",
        "      <td>  1</td>\n",
        "      <td> 1</td>\n",
        "      <td> 0</td>\n",
        "    </tr>\n",
        "    <tr>\n",
        "      <th>5  </th>\n",
        "      <td>   5</td>\n",
        "      <td> 1017122</td>\n",
        "      <td>  8</td>\n",
        "      <td> 10</td>\n",
        "      <td> 10</td>\n",
        "      <td>  8</td>\n",
        "      <td> 7</td>\n",
        "      <td> 10</td>\n",
        "      <td>  9</td>\n",
        "      <td>  7</td>\n",
        "      <td> 1</td>\n",
        "      <td> 1</td>\n",
        "    </tr>\n",
        "    <tr>\n",
        "      <th>6  </th>\n",
        "      <td>   6</td>\n",
        "      <td> 1018099</td>\n",
        "      <td>  1</td>\n",
        "      <td>  1</td>\n",
        "      <td>  1</td>\n",
        "      <td>  1</td>\n",
        "      <td> 2</td>\n",
        "      <td> 10</td>\n",
        "      <td>  3</td>\n",
        "      <td>  1</td>\n",
        "      <td> 1</td>\n",
        "      <td> 0</td>\n",
        "    </tr>\n",
        "    <tr>\n",
        "      <th>7  </th>\n",
        "      <td>   7</td>\n",
        "      <td> 1018561</td>\n",
        "      <td>  2</td>\n",
        "      <td>  1</td>\n",
        "      <td>  2</td>\n",
        "      <td>  1</td>\n",
        "      <td> 2</td>\n",
        "      <td>  1</td>\n",
        "      <td>  3</td>\n",
        "      <td>  1</td>\n",
        "      <td> 1</td>\n",
        "      <td> 0</td>\n",
        "    </tr>\n",
        "    <tr>\n",
        "      <th>8  </th>\n",
        "      <td>   8</td>\n",
        "      <td> 1033078</td>\n",
        "      <td>  2</td>\n",
        "      <td>  1</td>\n",
        "      <td>  1</td>\n",
        "      <td>  1</td>\n",
        "      <td> 2</td>\n",
        "      <td>  1</td>\n",
        "      <td>  1</td>\n",
        "      <td>  1</td>\n",
        "      <td> 5</td>\n",
        "      <td> 0</td>\n",
        "    </tr>\n",
        "    <tr>\n",
        "      <th>9  </th>\n",
        "      <td>   9</td>\n",
        "      <td> 1033078</td>\n",
        "      <td>  4</td>\n",
        "      <td>  2</td>\n",
        "      <td>  1</td>\n",
        "      <td>  1</td>\n",
        "      <td> 2</td>\n",
        "      <td>  1</td>\n",
        "      <td>  2</td>\n",
        "      <td>  1</td>\n",
        "      <td> 1</td>\n",
        "      <td> 0</td>\n",
        "    </tr>\n",
        "    <tr>\n",
        "      <th>10 </th>\n",
        "      <td>  10</td>\n",
        "      <td> 1035283</td>\n",
        "      <td>  1</td>\n",
        "      <td>  1</td>\n",
        "      <td>  1</td>\n",
        "      <td>  1</td>\n",
        "      <td> 1</td>\n",
        "      <td>  1</td>\n",
        "      <td>  3</td>\n",
        "      <td>  1</td>\n",
        "      <td> 1</td>\n",
        "      <td> 0</td>\n",
        "    </tr>\n",
        "    <tr>\n",
        "      <th>11 </th>\n",
        "      <td>  11</td>\n",
        "      <td> 1036172</td>\n",
        "      <td>  2</td>\n",
        "      <td>  1</td>\n",
        "      <td>  1</td>\n",
        "      <td>  1</td>\n",
        "      <td> 2</td>\n",
        "      <td>  1</td>\n",
        "      <td>  2</td>\n",
        "      <td>  1</td>\n",
        "      <td> 1</td>\n",
        "      <td> 0</td>\n",
        "    </tr>\n",
        "    <tr>\n",
        "      <th>12 </th>\n",
        "      <td>  12</td>\n",
        "      <td> 1041801</td>\n",
        "      <td>  5</td>\n",
        "      <td>  3</td>\n",
        "      <td>  3</td>\n",
        "      <td>  3</td>\n",
        "      <td> 2</td>\n",
        "      <td>  3</td>\n",
        "      <td>  4</td>\n",
        "      <td>  4</td>\n",
        "      <td> 1</td>\n",
        "      <td> 1</td>\n",
        "    </tr>\n",
        "    <tr>\n",
        "      <th>13 </th>\n",
        "      <td>  13</td>\n",
        "      <td> 1043999</td>\n",
        "      <td>  1</td>\n",
        "      <td>  1</td>\n",
        "      <td>  1</td>\n",
        "      <td>  1</td>\n",
        "      <td> 2</td>\n",
        "      <td>  3</td>\n",
        "      <td>  3</td>\n",
        "      <td>  1</td>\n",
        "      <td> 1</td>\n",
        "      <td> 0</td>\n",
        "    </tr>\n",
        "    <tr>\n",
        "      <th>14 </th>\n",
        "      <td>  14</td>\n",
        "      <td> 1044572</td>\n",
        "      <td>  8</td>\n",
        "      <td>  7</td>\n",
        "      <td>  5</td>\n",
        "      <td> 10</td>\n",
        "      <td> 7</td>\n",
        "      <td>  9</td>\n",
        "      <td>  5</td>\n",
        "      <td>  5</td>\n",
        "      <td> 4</td>\n",
        "      <td> 1</td>\n",
        "    </tr>\n",
        "    <tr>\n",
        "      <th>15 </th>\n",
        "      <td>  15</td>\n",
        "      <td> 1047630</td>\n",
        "      <td>  7</td>\n",
        "      <td>  4</td>\n",
        "      <td>  6</td>\n",
        "      <td>  4</td>\n",
        "      <td> 6</td>\n",
        "      <td>  1</td>\n",
        "      <td>  4</td>\n",
        "      <td>  3</td>\n",
        "      <td> 1</td>\n",
        "      <td> 1</td>\n",
        "    </tr>\n",
        "    <tr>\n",
        "      <th>16 </th>\n",
        "      <td>  16</td>\n",
        "      <td> 1048672</td>\n",
        "      <td>  4</td>\n",
        "      <td>  1</td>\n",
        "      <td>  1</td>\n",
        "      <td>  1</td>\n",
        "      <td> 2</td>\n",
        "      <td>  1</td>\n",
        "      <td>  2</td>\n",
        "      <td>  1</td>\n",
        "      <td> 1</td>\n",
        "      <td> 0</td>\n",
        "    </tr>\n",
        "    <tr>\n",
        "      <th>17 </th>\n",
        "      <td>  17</td>\n",
        "      <td> 1049815</td>\n",
        "      <td>  4</td>\n",
        "      <td>  1</td>\n",
        "      <td>  1</td>\n",
        "      <td>  1</td>\n",
        "      <td> 2</td>\n",
        "      <td>  1</td>\n",
        "      <td>  3</td>\n",
        "      <td>  1</td>\n",
        "      <td> 1</td>\n",
        "      <td> 0</td>\n",
        "    </tr>\n",
        "    <tr>\n",
        "      <th>18 </th>\n",
        "      <td>  18</td>\n",
        "      <td> 1050670</td>\n",
        "      <td> 10</td>\n",
        "      <td>  7</td>\n",
        "      <td>  7</td>\n",
        "      <td>  6</td>\n",
        "      <td> 4</td>\n",
        "      <td> 10</td>\n",
        "      <td>  4</td>\n",
        "      <td>  1</td>\n",
        "      <td> 2</td>\n",
        "      <td> 1</td>\n",
        "    </tr>\n",
        "    <tr>\n",
        "      <th>19 </th>\n",
        "      <td>  19</td>\n",
        "      <td> 1050718</td>\n",
        "      <td>  6</td>\n",
        "      <td>  1</td>\n",
        "      <td>  1</td>\n",
        "      <td>  1</td>\n",
        "      <td> 2</td>\n",
        "      <td>  1</td>\n",
        "      <td>  3</td>\n",
        "      <td>  1</td>\n",
        "      <td> 1</td>\n",
        "      <td> 0</td>\n",
        "    </tr>\n",
        "    <tr>\n",
        "      <th>20 </th>\n",
        "      <td>  20</td>\n",
        "      <td> 1054590</td>\n",
        "      <td>  7</td>\n",
        "      <td>  3</td>\n",
        "      <td>  2</td>\n",
        "      <td> 10</td>\n",
        "      <td> 5</td>\n",
        "      <td> 10</td>\n",
        "      <td>  5</td>\n",
        "      <td>  4</td>\n",
        "      <td> 4</td>\n",
        "      <td> 1</td>\n",
        "    </tr>\n",
        "    <tr>\n",
        "      <th>21 </th>\n",
        "      <td>  21</td>\n",
        "      <td> 1054593</td>\n",
        "      <td> 10</td>\n",
        "      <td>  5</td>\n",
        "      <td>  5</td>\n",
        "      <td>  3</td>\n",
        "      <td> 6</td>\n",
        "      <td>  7</td>\n",
        "      <td>  7</td>\n",
        "      <td> 10</td>\n",
        "      <td> 1</td>\n",
        "      <td> 1</td>\n",
        "    </tr>\n",
        "    <tr>\n",
        "      <th>22 </th>\n",
        "      <td>  22</td>\n",
        "      <td> 1056784</td>\n",
        "      <td>  3</td>\n",
        "      <td>  1</td>\n",
        "      <td>  1</td>\n",
        "      <td>  1</td>\n",
        "      <td> 2</td>\n",
        "      <td>  1</td>\n",
        "      <td>  2</td>\n",
        "      <td>  1</td>\n",
        "      <td> 1</td>\n",
        "      <td> 0</td>\n",
        "    </tr>\n",
        "    <tr>\n",
        "      <th>23 </th>\n",
        "      <td>  23</td>\n",
        "      <td> 1057013</td>\n",
        "      <td>  8</td>\n",
        "      <td>  4</td>\n",
        "      <td>  5</td>\n",
        "      <td>  1</td>\n",
        "      <td> 2</td>\n",
        "      <td> -1</td>\n",
        "      <td>  7</td>\n",
        "      <td>  3</td>\n",
        "      <td> 1</td>\n",
        "      <td> 1</td>\n",
        "    </tr>\n",
        "    <tr>\n",
        "      <th>24 </th>\n",
        "      <td>  24</td>\n",
        "      <td> 1059552</td>\n",
        "      <td>  1</td>\n",
        "      <td>  1</td>\n",
        "      <td>  1</td>\n",
        "      <td>  1</td>\n",
        "      <td> 2</td>\n",
        "      <td>  1</td>\n",
        "      <td>  3</td>\n",
        "      <td>  1</td>\n",
        "      <td> 1</td>\n",
        "      <td> 0</td>\n",
        "    </tr>\n",
        "    <tr>\n",
        "      <th>25 </th>\n",
        "      <td>  25</td>\n",
        "      <td> 1065726</td>\n",
        "      <td>  5</td>\n",
        "      <td>  2</td>\n",
        "      <td>  3</td>\n",
        "      <td>  4</td>\n",
        "      <td> 2</td>\n",
        "      <td>  7</td>\n",
        "      <td>  3</td>\n",
        "      <td>  6</td>\n",
        "      <td> 1</td>\n",
        "      <td> 1</td>\n",
        "    </tr>\n",
        "    <tr>\n",
        "      <th>26 </th>\n",
        "      <td>  26</td>\n",
        "      <td> 1066373</td>\n",
        "      <td>  3</td>\n",
        "      <td>  2</td>\n",
        "      <td>  1</td>\n",
        "      <td>  1</td>\n",
        "      <td> 1</td>\n",
        "      <td>  1</td>\n",
        "      <td>  2</td>\n",
        "      <td>  1</td>\n",
        "      <td> 1</td>\n",
        "      <td> 0</td>\n",
        "    </tr>\n",
        "    <tr>\n",
        "      <th>27 </th>\n",
        "      <td>  27</td>\n",
        "      <td> 1066979</td>\n",
        "      <td>  5</td>\n",
        "      <td>  1</td>\n",
        "      <td>  1</td>\n",
        "      <td>  1</td>\n",
        "      <td> 2</td>\n",
        "      <td>  1</td>\n",
        "      <td>  2</td>\n",
        "      <td>  1</td>\n",
        "      <td> 1</td>\n",
        "      <td> 0</td>\n",
        "    </tr>\n",
        "    <tr>\n",
        "      <th>28 </th>\n",
        "      <td>  28</td>\n",
        "      <td> 1067444</td>\n",
        "      <td>  2</td>\n",
        "      <td>  1</td>\n",
        "      <td>  1</td>\n",
        "      <td>  1</td>\n",
        "      <td> 2</td>\n",
        "      <td>  1</td>\n",
        "      <td>  2</td>\n",
        "      <td>  1</td>\n",
        "      <td> 1</td>\n",
        "      <td> 0</td>\n",
        "    </tr>\n",
        "    <tr>\n",
        "      <th>29 </th>\n",
        "      <td>  29</td>\n",
        "      <td> 1070935</td>\n",
        "      <td>  1</td>\n",
        "      <td>  1</td>\n",
        "      <td>  3</td>\n",
        "      <td>  1</td>\n",
        "      <td> 2</td>\n",
        "      <td>  1</td>\n",
        "      <td>  1</td>\n",
        "      <td>  1</td>\n",
        "      <td> 1</td>\n",
        "      <td> 0</td>\n",
        "    </tr>\n",
        "    <tr>\n",
        "      <th>...</th>\n",
        "      <td>...</td>\n",
        "      <td>...</td>\n",
        "      <td>...</td>\n",
        "      <td>...</td>\n",
        "      <td>...</td>\n",
        "      <td>...</td>\n",
        "      <td>...</td>\n",
        "      <td>...</td>\n",
        "      <td>...</td>\n",
        "      <td>...</td>\n",
        "      <td>...</td>\n",
        "      <td>...</td>\n",
        "    </tr>\n",
        "    <tr>\n",
        "      <th>669</th>\n",
        "      <td> 669</td>\n",
        "      <td> 1350423</td>\n",
        "      <td>  5</td>\n",
        "      <td> 10</td>\n",
        "      <td> 10</td>\n",
        "      <td>  8</td>\n",
        "      <td> 5</td>\n",
        "      <td>  5</td>\n",
        "      <td>  7</td>\n",
        "      <td> 10</td>\n",
        "      <td> 1</td>\n",
        "      <td> 1</td>\n",
        "    </tr>\n",
        "    <tr>\n",
        "      <th>670</th>\n",
        "      <td> 670</td>\n",
        "      <td> 1352848</td>\n",
        "      <td>  3</td>\n",
        "      <td> 10</td>\n",
        "      <td>  7</td>\n",
        "      <td>  8</td>\n",
        "      <td> 5</td>\n",
        "      <td>  8</td>\n",
        "      <td>  7</td>\n",
        "      <td>  4</td>\n",
        "      <td> 1</td>\n",
        "      <td> 1</td>\n",
        "    </tr>\n",
        "    <tr>\n",
        "      <th>671</th>\n",
        "      <td> 671</td>\n",
        "      <td> 1353092</td>\n",
        "      <td>  3</td>\n",
        "      <td>  2</td>\n",
        "      <td>  1</td>\n",
        "      <td>  2</td>\n",
        "      <td> 2</td>\n",
        "      <td>  1</td>\n",
        "      <td>  3</td>\n",
        "      <td>  1</td>\n",
        "      <td> 1</td>\n",
        "      <td> 0</td>\n",
        "    </tr>\n",
        "    <tr>\n",
        "      <th>672</th>\n",
        "      <td> 672</td>\n",
        "      <td> 1354840</td>\n",
        "      <td>  2</td>\n",
        "      <td>  1</td>\n",
        "      <td>  1</td>\n",
        "      <td>  1</td>\n",
        "      <td> 2</td>\n",
        "      <td>  1</td>\n",
        "      <td>  3</td>\n",
        "      <td>  1</td>\n",
        "      <td> 1</td>\n",
        "      <td> 0</td>\n",
        "    </tr>\n",
        "    <tr>\n",
        "      <th>673</th>\n",
        "      <td> 673</td>\n",
        "      <td> 1354840</td>\n",
        "      <td>  5</td>\n",
        "      <td>  3</td>\n",
        "      <td>  2</td>\n",
        "      <td>  1</td>\n",
        "      <td> 3</td>\n",
        "      <td>  1</td>\n",
        "      <td>  1</td>\n",
        "      <td>  1</td>\n",
        "      <td> 1</td>\n",
        "      <td> 0</td>\n",
        "    </tr>\n",
        "    <tr>\n",
        "      <th>674</th>\n",
        "      <td> 674</td>\n",
        "      <td> 1355260</td>\n",
        "      <td>  1</td>\n",
        "      <td>  1</td>\n",
        "      <td>  1</td>\n",
        "      <td>  1</td>\n",
        "      <td> 2</td>\n",
        "      <td>  1</td>\n",
        "      <td>  2</td>\n",
        "      <td>  1</td>\n",
        "      <td> 1</td>\n",
        "      <td> 0</td>\n",
        "    </tr>\n",
        "    <tr>\n",
        "      <th>675</th>\n",
        "      <td> 675</td>\n",
        "      <td> 1365075</td>\n",
        "      <td>  4</td>\n",
        "      <td>  1</td>\n",
        "      <td>  4</td>\n",
        "      <td>  1</td>\n",
        "      <td> 2</td>\n",
        "      <td>  1</td>\n",
        "      <td>  1</td>\n",
        "      <td>  1</td>\n",
        "      <td> 1</td>\n",
        "      <td> 0</td>\n",
        "    </tr>\n",
        "    <tr>\n",
        "      <th>676</th>\n",
        "      <td> 676</td>\n",
        "      <td> 1365328</td>\n",
        "      <td>  1</td>\n",
        "      <td>  1</td>\n",
        "      <td>  2</td>\n",
        "      <td>  1</td>\n",
        "      <td> 2</td>\n",
        "      <td>  1</td>\n",
        "      <td>  2</td>\n",
        "      <td>  1</td>\n",
        "      <td> 1</td>\n",
        "      <td> 0</td>\n",
        "    </tr>\n",
        "    <tr>\n",
        "      <th>677</th>\n",
        "      <td> 677</td>\n",
        "      <td> 1368267</td>\n",
        "      <td>  5</td>\n",
        "      <td>  1</td>\n",
        "      <td>  1</td>\n",
        "      <td>  1</td>\n",
        "      <td> 2</td>\n",
        "      <td>  1</td>\n",
        "      <td>  1</td>\n",
        "      <td>  1</td>\n",
        "      <td> 1</td>\n",
        "      <td> 0</td>\n",
        "    </tr>\n",
        "    <tr>\n",
        "      <th>678</th>\n",
        "      <td> 678</td>\n",
        "      <td> 1368273</td>\n",
        "      <td>  1</td>\n",
        "      <td>  1</td>\n",
        "      <td>  1</td>\n",
        "      <td>  1</td>\n",
        "      <td> 2</td>\n",
        "      <td>  1</td>\n",
        "      <td>  1</td>\n",
        "      <td>  1</td>\n",
        "      <td> 1</td>\n",
        "      <td> 0</td>\n",
        "    </tr>\n",
        "    <tr>\n",
        "      <th>679</th>\n",
        "      <td> 679</td>\n",
        "      <td> 1368882</td>\n",
        "      <td>  2</td>\n",
        "      <td>  1</td>\n",
        "      <td>  1</td>\n",
        "      <td>  1</td>\n",
        "      <td> 2</td>\n",
        "      <td>  1</td>\n",
        "      <td>  1</td>\n",
        "      <td>  1</td>\n",
        "      <td> 1</td>\n",
        "      <td> 0</td>\n",
        "    </tr>\n",
        "    <tr>\n",
        "      <th>680</th>\n",
        "      <td> 680</td>\n",
        "      <td> 1369821</td>\n",
        "      <td> 10</td>\n",
        "      <td> 10</td>\n",
        "      <td> 10</td>\n",
        "      <td> 10</td>\n",
        "      <td> 5</td>\n",
        "      <td> 10</td>\n",
        "      <td> 10</td>\n",
        "      <td> 10</td>\n",
        "      <td> 7</td>\n",
        "      <td> 1</td>\n",
        "    </tr>\n",
        "    <tr>\n",
        "      <th>681</th>\n",
        "      <td> 681</td>\n",
        "      <td> 1371026</td>\n",
        "      <td>  5</td>\n",
        "      <td> 10</td>\n",
        "      <td> 10</td>\n",
        "      <td> 10</td>\n",
        "      <td> 4</td>\n",
        "      <td> 10</td>\n",
        "      <td>  5</td>\n",
        "      <td>  6</td>\n",
        "      <td> 3</td>\n",
        "      <td> 1</td>\n",
        "    </tr>\n",
        "    <tr>\n",
        "      <th>682</th>\n",
        "      <td> 682</td>\n",
        "      <td> 1371920</td>\n",
        "      <td>  5</td>\n",
        "      <td>  1</td>\n",
        "      <td>  1</td>\n",
        "      <td>  1</td>\n",
        "      <td> 2</td>\n",
        "      <td>  1</td>\n",
        "      <td>  3</td>\n",
        "      <td>  2</td>\n",
        "      <td> 1</td>\n",
        "      <td> 0</td>\n",
        "    </tr>\n",
        "    <tr>\n",
        "      <th>683</th>\n",
        "      <td> 683</td>\n",
        "      <td>  466906</td>\n",
        "      <td>  1</td>\n",
        "      <td>  1</td>\n",
        "      <td>  1</td>\n",
        "      <td>  1</td>\n",
        "      <td> 2</td>\n",
        "      <td>  1</td>\n",
        "      <td>  1</td>\n",
        "      <td>  1</td>\n",
        "      <td> 1</td>\n",
        "      <td> 0</td>\n",
        "    </tr>\n",
        "    <tr>\n",
        "      <th>684</th>\n",
        "      <td> 684</td>\n",
        "      <td>  466906</td>\n",
        "      <td>  1</td>\n",
        "      <td>  1</td>\n",
        "      <td>  1</td>\n",
        "      <td>  1</td>\n",
        "      <td> 2</td>\n",
        "      <td>  1</td>\n",
        "      <td>  1</td>\n",
        "      <td>  1</td>\n",
        "      <td> 1</td>\n",
        "      <td> 0</td>\n",
        "    </tr>\n",
        "    <tr>\n",
        "      <th>685</th>\n",
        "      <td> 685</td>\n",
        "      <td>  534555</td>\n",
        "      <td>  1</td>\n",
        "      <td>  1</td>\n",
        "      <td>  1</td>\n",
        "      <td>  1</td>\n",
        "      <td> 2</td>\n",
        "      <td>  1</td>\n",
        "      <td>  1</td>\n",
        "      <td>  1</td>\n",
        "      <td> 1</td>\n",
        "      <td> 0</td>\n",
        "    </tr>\n",
        "    <tr>\n",
        "      <th>686</th>\n",
        "      <td> 686</td>\n",
        "      <td>  536708</td>\n",
        "      <td>  1</td>\n",
        "      <td>  1</td>\n",
        "      <td>  1</td>\n",
        "      <td>  1</td>\n",
        "      <td> 2</td>\n",
        "      <td>  1</td>\n",
        "      <td>  1</td>\n",
        "      <td>  1</td>\n",
        "      <td> 1</td>\n",
        "      <td> 0</td>\n",
        "    </tr>\n",
        "    <tr>\n",
        "      <th>687</th>\n",
        "      <td> 687</td>\n",
        "      <td>  566346</td>\n",
        "      <td>  3</td>\n",
        "      <td>  1</td>\n",
        "      <td>  1</td>\n",
        "      <td>  1</td>\n",
        "      <td> 2</td>\n",
        "      <td>  1</td>\n",
        "      <td>  2</td>\n",
        "      <td>  3</td>\n",
        "      <td> 1</td>\n",
        "      <td> 0</td>\n",
        "    </tr>\n",
        "    <tr>\n",
        "      <th>688</th>\n",
        "      <td> 688</td>\n",
        "      <td>  603148</td>\n",
        "      <td>  4</td>\n",
        "      <td>  1</td>\n",
        "      <td>  1</td>\n",
        "      <td>  1</td>\n",
        "      <td> 2</td>\n",
        "      <td>  1</td>\n",
        "      <td>  1</td>\n",
        "      <td>  1</td>\n",
        "      <td> 1</td>\n",
        "      <td> 0</td>\n",
        "    </tr>\n",
        "    <tr>\n",
        "      <th>689</th>\n",
        "      <td> 689</td>\n",
        "      <td>  654546</td>\n",
        "      <td>  1</td>\n",
        "      <td>  1</td>\n",
        "      <td>  1</td>\n",
        "      <td>  1</td>\n",
        "      <td> 2</td>\n",
        "      <td>  1</td>\n",
        "      <td>  1</td>\n",
        "      <td>  1</td>\n",
        "      <td> 8</td>\n",
        "      <td> 0</td>\n",
        "    </tr>\n",
        "    <tr>\n",
        "      <th>690</th>\n",
        "      <td> 690</td>\n",
        "      <td>  654546</td>\n",
        "      <td>  1</td>\n",
        "      <td>  1</td>\n",
        "      <td>  1</td>\n",
        "      <td>  3</td>\n",
        "      <td> 2</td>\n",
        "      <td>  1</td>\n",
        "      <td>  1</td>\n",
        "      <td>  1</td>\n",
        "      <td> 1</td>\n",
        "      <td> 0</td>\n",
        "    </tr>\n",
        "    <tr>\n",
        "      <th>691</th>\n",
        "      <td> 691</td>\n",
        "      <td>  695091</td>\n",
        "      <td>  5</td>\n",
        "      <td> 10</td>\n",
        "      <td> 10</td>\n",
        "      <td>  5</td>\n",
        "      <td> 4</td>\n",
        "      <td>  5</td>\n",
        "      <td>  4</td>\n",
        "      <td>  4</td>\n",
        "      <td> 1</td>\n",
        "      <td> 1</td>\n",
        "    </tr>\n",
        "    <tr>\n",
        "      <th>692</th>\n",
        "      <td> 692</td>\n",
        "      <td>  714039</td>\n",
        "      <td>  3</td>\n",
        "      <td>  1</td>\n",
        "      <td>  1</td>\n",
        "      <td>  1</td>\n",
        "      <td> 2</td>\n",
        "      <td>  1</td>\n",
        "      <td>  1</td>\n",
        "      <td>  1</td>\n",
        "      <td> 1</td>\n",
        "      <td> 0</td>\n",
        "    </tr>\n",
        "    <tr>\n",
        "      <th>693</th>\n",
        "      <td> 693</td>\n",
        "      <td>  763235</td>\n",
        "      <td>  3</td>\n",
        "      <td>  1</td>\n",
        "      <td>  1</td>\n",
        "      <td>  1</td>\n",
        "      <td> 2</td>\n",
        "      <td>  1</td>\n",
        "      <td>  2</td>\n",
        "      <td>  1</td>\n",
        "      <td> 2</td>\n",
        "      <td> 0</td>\n",
        "    </tr>\n",
        "    <tr>\n",
        "      <th>694</th>\n",
        "      <td> 694</td>\n",
        "      <td>  776715</td>\n",
        "      <td>  3</td>\n",
        "      <td>  1</td>\n",
        "      <td>  1</td>\n",
        "      <td>  1</td>\n",
        "      <td> 3</td>\n",
        "      <td>  2</td>\n",
        "      <td>  1</td>\n",
        "      <td>  1</td>\n",
        "      <td> 1</td>\n",
        "      <td> 0</td>\n",
        "    </tr>\n",
        "    <tr>\n",
        "      <th>695</th>\n",
        "      <td> 695</td>\n",
        "      <td>  841769</td>\n",
        "      <td>  2</td>\n",
        "      <td>  1</td>\n",
        "      <td>  1</td>\n",
        "      <td>  1</td>\n",
        "      <td> 2</td>\n",
        "      <td>  1</td>\n",
        "      <td>  1</td>\n",
        "      <td>  1</td>\n",
        "      <td> 1</td>\n",
        "      <td> 0</td>\n",
        "    </tr>\n",
        "    <tr>\n",
        "      <th>696</th>\n",
        "      <td> 696</td>\n",
        "      <td>  888820</td>\n",
        "      <td>  5</td>\n",
        "      <td> 10</td>\n",
        "      <td> 10</td>\n",
        "      <td>  3</td>\n",
        "      <td> 7</td>\n",
        "      <td>  3</td>\n",
        "      <td>  8</td>\n",
        "      <td> 10</td>\n",
        "      <td> 2</td>\n",
        "      <td> 1</td>\n",
        "    </tr>\n",
        "    <tr>\n",
        "      <th>697</th>\n",
        "      <td> 697</td>\n",
        "      <td>  897471</td>\n",
        "      <td>  4</td>\n",
        "      <td>  8</td>\n",
        "      <td>  6</td>\n",
        "      <td>  4</td>\n",
        "      <td> 3</td>\n",
        "      <td>  4</td>\n",
        "      <td> 10</td>\n",
        "      <td>  6</td>\n",
        "      <td> 1</td>\n",
        "      <td> 1</td>\n",
        "    </tr>\n",
        "    <tr>\n",
        "      <th>698</th>\n",
        "      <td> 698</td>\n",
        "      <td>  897471</td>\n",
        "      <td>  4</td>\n",
        "      <td>  8</td>\n",
        "      <td>  8</td>\n",
        "      <td>  5</td>\n",
        "      <td> 4</td>\n",
        "      <td>  5</td>\n",
        "      <td> 10</td>\n",
        "      <td>  4</td>\n",
        "      <td> 1</td>\n",
        "      <td> 1</td>\n",
        "    </tr>\n",
        "  </tbody>\n",
        "</table>\n",
        "<p>699 rows \u00d7 12 columns</p>\n",
        "</div>"
       ],
       "metadata": {},
       "output_type": "pyout",
       "prompt_number": 3,
       "text": [
        "     Unnamed: 0  id number  clump_thickness  uniformity_of_cell_size  \\\n",
        "0             0    1000025                5                        1   \n",
        "1             1    1002945                5                        4   \n",
        "2             2    1015425                3                        1   \n",
        "3             3    1016277                6                        8   \n",
        "4             4    1017023                4                        1   \n",
        "5             5    1017122                8                       10   \n",
        "6             6    1018099                1                        1   \n",
        "7             7    1018561                2                        1   \n",
        "8             8    1033078                2                        1   \n",
        "9             9    1033078                4                        2   \n",
        "10           10    1035283                1                        1   \n",
        "11           11    1036172                2                        1   \n",
        "12           12    1041801                5                        3   \n",
        "13           13    1043999                1                        1   \n",
        "14           14    1044572                8                        7   \n",
        "15           15    1047630                7                        4   \n",
        "16           16    1048672                4                        1   \n",
        "17           17    1049815                4                        1   \n",
        "18           18    1050670               10                        7   \n",
        "19           19    1050718                6                        1   \n",
        "20           20    1054590                7                        3   \n",
        "21           21    1054593               10                        5   \n",
        "22           22    1056784                3                        1   \n",
        "23           23    1057013                8                        4   \n",
        "24           24    1059552                1                        1   \n",
        "25           25    1065726                5                        2   \n",
        "26           26    1066373                3                        2   \n",
        "27           27    1066979                5                        1   \n",
        "28           28    1067444                2                        1   \n",
        "29           29    1070935                1                        1   \n",
        "..          ...        ...              ...                      ...   \n",
        "669         669    1350423                5                       10   \n",
        "670         670    1352848                3                       10   \n",
        "671         671    1353092                3                        2   \n",
        "672         672    1354840                2                        1   \n",
        "673         673    1354840                5                        3   \n",
        "674         674    1355260                1                        1   \n",
        "675         675    1365075                4                        1   \n",
        "676         676    1365328                1                        1   \n",
        "677         677    1368267                5                        1   \n",
        "678         678    1368273                1                        1   \n",
        "679         679    1368882                2                        1   \n",
        "680         680    1369821               10                       10   \n",
        "681         681    1371026                5                       10   \n",
        "682         682    1371920                5                        1   \n",
        "683         683     466906                1                        1   \n",
        "684         684     466906                1                        1   \n",
        "685         685     534555                1                        1   \n",
        "686         686     536708                1                        1   \n",
        "687         687     566346                3                        1   \n",
        "688         688     603148                4                        1   \n",
        "689         689     654546                1                        1   \n",
        "690         690     654546                1                        1   \n",
        "691         691     695091                5                       10   \n",
        "692         692     714039                3                        1   \n",
        "693         693     763235                3                        1   \n",
        "694         694     776715                3                        1   \n",
        "695         695     841769                2                        1   \n",
        "696         696     888820                5                       10   \n",
        "697         697     897471                4                        8   \n",
        "698         698     897471                4                        8   \n",
        "\n",
        "     uniformity_of_cell_shape  marginal_adhesion  epithelial_cell_size  \\\n",
        "0                           1                  1                     2   \n",
        "1                           4                  5                     7   \n",
        "2                           1                  1                     2   \n",
        "3                           8                  1                     3   \n",
        "4                           1                  3                     2   \n",
        "5                          10                  8                     7   \n",
        "6                           1                  1                     2   \n",
        "7                           2                  1                     2   \n",
        "8                           1                  1                     2   \n",
        "9                           1                  1                     2   \n",
        "10                          1                  1                     1   \n",
        "11                          1                  1                     2   \n",
        "12                          3                  3                     2   \n",
        "13                          1                  1                     2   \n",
        "14                          5                 10                     7   \n",
        "15                          6                  4                     6   \n",
        "16                          1                  1                     2   \n",
        "17                          1                  1                     2   \n",
        "18                          7                  6                     4   \n",
        "19                          1                  1                     2   \n",
        "20                          2                 10                     5   \n",
        "21                          5                  3                     6   \n",
        "22                          1                  1                     2   \n",
        "23                          5                  1                     2   \n",
        "24                          1                  1                     2   \n",
        "25                          3                  4                     2   \n",
        "26                          1                  1                     1   \n",
        "27                          1                  1                     2   \n",
        "28                          1                  1                     2   \n",
        "29                          3                  1                     2   \n",
        "..                        ...                ...                   ...   \n",
        "669                        10                  8                     5   \n",
        "670                         7                  8                     5   \n",
        "671                         1                  2                     2   \n",
        "672                         1                  1                     2   \n",
        "673                         2                  1                     3   \n",
        "674                         1                  1                     2   \n",
        "675                         4                  1                     2   \n",
        "676                         2                  1                     2   \n",
        "677                         1                  1                     2   \n",
        "678                         1                  1                     2   \n",
        "679                         1                  1                     2   \n",
        "680                        10                 10                     5   \n",
        "681                        10                 10                     4   \n",
        "682                         1                  1                     2   \n",
        "683                         1                  1                     2   \n",
        "684                         1                  1                     2   \n",
        "685                         1                  1                     2   \n",
        "686                         1                  1                     2   \n",
        "687                         1                  1                     2   \n",
        "688                         1                  1                     2   \n",
        "689                         1                  1                     2   \n",
        "690                         1                  3                     2   \n",
        "691                        10                  5                     4   \n",
        "692                         1                  1                     2   \n",
        "693                         1                  1                     2   \n",
        "694                         1                  1                     3   \n",
        "695                         1                  1                     2   \n",
        "696                        10                  3                     7   \n",
        "697                         6                  4                     3   \n",
        "698                         8                  5                     4   \n",
        "\n",
        "     bare_nuclei  bland_chromatin  normal_nucleoli  mitoses  malignant  \n",
        "0              1                3                1        1          0  \n",
        "1             10                3                2        1          0  \n",
        "2              2                3                1        1          0  \n",
        "3              4                3                7        1          0  \n",
        "4              1                3                1        1          0  \n",
        "5             10                9                7        1          1  \n",
        "6             10                3                1        1          0  \n",
        "7              1                3                1        1          0  \n",
        "8              1                1                1        5          0  \n",
        "9              1                2                1        1          0  \n",
        "10             1                3                1        1          0  \n",
        "11             1                2                1        1          0  \n",
        "12             3                4                4        1          1  \n",
        "13             3                3                1        1          0  \n",
        "14             9                5                5        4          1  \n",
        "15             1                4                3        1          1  \n",
        "16             1                2                1        1          0  \n",
        "17             1                3                1        1          0  \n",
        "18            10                4                1        2          1  \n",
        "19             1                3                1        1          0  \n",
        "20            10                5                4        4          1  \n",
        "21             7                7               10        1          1  \n",
        "22             1                2                1        1          0  \n",
        "23            -1                7                3        1          1  \n",
        "24             1                3                1        1          0  \n",
        "25             7                3                6        1          1  \n",
        "26             1                2                1        1          0  \n",
        "27             1                2                1        1          0  \n",
        "28             1                2                1        1          0  \n",
        "29             1                1                1        1          0  \n",
        "..           ...              ...              ...      ...        ...  \n",
        "669            5                7               10        1          1  \n",
        "670            8                7                4        1          1  \n",
        "671            1                3                1        1          0  \n",
        "672            1                3                1        1          0  \n",
        "673            1                1                1        1          0  \n",
        "674            1                2                1        1          0  \n",
        "675            1                1                1        1          0  \n",
        "676            1                2                1        1          0  \n",
        "677            1                1                1        1          0  \n",
        "678            1                1                1        1          0  \n",
        "679            1                1                1        1          0  \n",
        "680           10               10               10        7          1  \n",
        "681           10                5                6        3          1  \n",
        "682            1                3                2        1          0  \n",
        "683            1                1                1        1          0  \n",
        "684            1                1                1        1          0  \n",
        "685            1                1                1        1          0  \n",
        "686            1                1                1        1          0  \n",
        "687            1                2                3        1          0  \n",
        "688            1                1                1        1          0  \n",
        "689            1                1                1        8          0  \n",
        "690            1                1                1        1          0  \n",
        "691            5                4                4        1          1  \n",
        "692            1                1                1        1          0  \n",
        "693            1                2                1        2          0  \n",
        "694            2                1                1        1          0  \n",
        "695            1                1                1        1          0  \n",
        "696            3                8               10        2          1  \n",
        "697            4               10                6        1          1  \n",
        "698            5               10                4        1          1  \n",
        "\n",
        "[699 rows x 12 columns]"
       ]
      }
     ],
     "prompt_number": 3
    },
    {
     "cell_type": "code",
     "collapsed": false,
     "input": [
      "#Removing duplicated row count\n",
      "data = data.drop(\"Unnamed: 0\", axis=1)"
     ],
     "language": "python",
     "metadata": {},
     "outputs": [],
     "prompt_number": 4
    },
    {
     "cell_type": "code",
     "collapsed": false,
     "input": [
      "#Setting the feature we want to predict\n",
      "y = data.pop(\"malignant\")"
     ],
     "language": "python",
     "metadata": {},
     "outputs": [],
     "prompt_number": 5
    },
    {
     "cell_type": "code",
     "collapsed": false,
     "input": [
      "from sklearn.cross_validation import train_test_split\n",
      "import numpy as np\n",
      "np.random.seed(100)\n",
      "x_train, x_test, y_train, y_test = train_test_split(data, y, test_size=.2)"
     ],
     "language": "python",
     "metadata": {},
     "outputs": [],
     "prompt_number": 6
    },
    {
     "cell_type": "markdown",
     "metadata": {},
     "source": [
      "###Setting up a base prediction"
     ]
    },
    {
     "cell_type": "code",
     "collapsed": false,
     "input": [
      "model = RandomForestRegressor(n_estimators=100, oob_score=True, random_state=42)\n",
      "model.fit(x_train, y_train)"
     ],
     "language": "python",
     "metadata": {},
     "outputs": [
      {
       "metadata": {},
       "output_type": "pyout",
       "prompt_number": 7,
       "text": [
        "RandomForestRegressor(bootstrap=True, compute_importances=None,\n",
        "           criterion='mse', max_depth=None, max_features='auto',\n",
        "           max_leaf_nodes=None, min_density=None, min_samples_leaf=1,\n",
        "           min_samples_split=2, n_estimators=100, n_jobs=1, oob_score=True,\n",
        "           random_state=42, verbose=0)"
       ]
      }
     ],
     "prompt_number": 7
    },
    {
     "cell_type": "code",
     "collapsed": false,
     "input": [
      "model.oob_score_"
     ],
     "language": "python",
     "metadata": {},
     "outputs": [
      {
       "metadata": {},
       "output_type": "pyout",
       "prompt_number": 8,
       "text": [
        "0.89505057768645691"
       ]
      }
     ],
     "prompt_number": 8
    },
    {
     "cell_type": "code",
     "collapsed": false,
     "input": [
      "print \"AUC Score: \", roc_auc_score(y_test, model.predict(x_test))"
     ],
     "language": "python",
     "metadata": {},
     "outputs": [
      {
       "output_type": "stream",
       "stream": "stdout",
       "text": [
        "AUC Score:  "
       ]
      },
      {
       "output_type": "stream",
       "stream": "stdout",
       "text": [
        "0.954026632847\n"
       ]
      }
     ],
     "prompt_number": 9
    },
    {
     "cell_type": "markdown",
     "metadata": {},
     "source": [
      "###Displaying the importance of each feature"
     ]
    },
    {
     "cell_type": "code",
     "collapsed": false,
     "input": [
      "feature_importances = pnd.Series(model.feature_importances_, index=data.columns)\n",
      "feature_importances.sort()\n",
      "feature_importances.plot(kind=\"barh\", figsize=(7,6));"
     ],
     "language": "python",
     "metadata": {},
     "outputs": [
      {
       "metadata": {},
       "output_type": "display_data",
       "png": "[encoded data removed]",
       "text": [
        "<matplotlib.figure.Figure at 0x155fee48>"
       ]
      }
     ],
     "prompt_number": 10
    },
    {
     "cell_type": "markdown",
     "metadata": {},
     "source": [
      "From the current look of things, it appears the only feature worth noticing is the uniformity_of_cell_size.  I will re-visit this chart once the model optimization process has finished."
     ]
    },
    {
     "cell_type": "markdown",
     "metadata": {},
     "source": [
      "##Base Optimization"
     ]
    },
    {
     "cell_type": "markdown",
     "metadata": {},
     "source": [
      "###n_jobs"
     ]
    },
    {
     "cell_type": "code",
     "collapsed": false,
     "input": [
      "%%timeit\n",
      "model = RandomForestRegressor(1000, oob_score=True, n_jobs=1, random_state=42)\n",
      "model.fit(x_train, y_train)"
     ],
     "language": "python",
     "metadata": {},
     "outputs": [
      {
       "output_type": "stream",
       "stream": "stdout",
       "text": [
        "1 loops, best of 3: 1.11 s per loop\n"
       ]
      }
     ],
     "prompt_number": 11
    },
    {
     "cell_type": "code",
     "collapsed": false,
     "input": [
      "%%timeit\n",
      "model = RandomForestRegressor(1000, oob_score=True, n_jobs=-1, random_state=42)\n",
      "model.fit(x_train, y_train)"
     ],
     "language": "python",
     "metadata": {},
     "outputs": [
      {
       "output_type": "stream",
       "stream": "stdout",
       "text": [
        "1 loops, best of 3: 797 ms per loop\n"
       ]
      }
     ],
     "prompt_number": 12
    },
    {
     "cell_type": "markdown",
     "metadata": {},
     "source": [
      "###n_estimators"
     ]
    },
    {
     "cell_type": "code",
     "collapsed": false,
     "input": [
      "results = []\n",
      "n_est = [5, 6, 7, 8, 9, 10, 11, 12]\n",
      "for tree in n_est:\n",
      "    trees = 2**tree\n",
      "    model = RandomForestRegressor(trees, oob_score=True, n_jobs=-1, random_state=42)\n",
      "    model.fit(x_train, y_train)\n",
      "    print \"#\", tree\n",
      "    print trees, \"trees\"\n",
      "    roc = roc_auc_score(y_test, model.predict(x_test))\n",
      "    print \"AUC Score: \", roc\n",
      "    results.append(roc)\n",
      "    print \"\"\n",
      "    \n",
      "pnd.Series(results, n_est).plot();"
     ],
     "language": "python",
     "metadata": {},
     "outputs": [
      {
       "output_type": "stream",
       "stream": "stdout",
       "text": [
        "# 5\n",
        "32 trees\n",
        "AUC Score: "
       ]
      },
      {
       "output_type": "stream",
       "stream": "stdout",
       "text": [
        " 0.954977805961\n",
        "\n",
        "#"
       ]
      },
      {
       "output_type": "stream",
       "stream": "stdout",
       "text": [
        " 6\n",
        "64 trees\n",
        "AUC Score: "
       ]
      },
      {
       "output_type": "stream",
       "stream": "stdout",
       "text": [
        " 0.955294863665\n",
        "\n",
        "#"
       ]
      },
      {
       "output_type": "stream",
       "stream": "stdout",
       "text": [
        " 7\n",
        "128 trees\n",
        "AUC Score: "
       ]
      },
      {
       "output_type": "stream",
       "stream": "stdout",
       "text": [
        " 0.953075459734\n",
        "\n",
        "#"
       ]
      },
      {
       "output_type": "stream",
       "stream": "stdout",
       "text": [
        " 8\n",
        "256 trees\n",
        "AUC Score: "
       ]
      },
      {
       "output_type": "stream",
       "stream": "stdout",
       "text": [
        " 0.952652716128\n",
        "\n",
        "#"
       ]
      },
      {
       "output_type": "stream",
       "stream": "stdout",
       "text": [
        " 9\n",
        "512 trees\n",
        "AUC Score: "
       ]
      },
      {
       "output_type": "stream",
       "stream": "stdout",
       "text": [
        " 0.961424645952\n",
        "\n",
        "#"
       ]
      },
      {
       "output_type": "stream",
       "stream": "stdout",
       "text": [
        " 10\n",
        "1024 trees\n",
        "AUC Score: "
       ]
      },
      {
       "output_type": "stream",
       "stream": "stdout",
       "text": [
        " 0.96406679349\n",
        "\n",
        "#"
       ]
      },
      {
       "output_type": "stream",
       "stream": "stdout",
       "text": [
        " 11\n",
        "2048 trees\n",
        "AUC Score: "
       ]
      },
      {
       "output_type": "stream",
       "stream": "stdout",
       "text": [
        " 0.966814626929\n",
        "\n",
        "#"
       ]
      },
      {
       "output_type": "stream",
       "stream": "stdout",
       "text": [
        " 12\n",
        "4096 trees\n",
        "AUC Score: "
       ]
      },
      {
       "output_type": "stream",
       "stream": "stdout",
       "text": [
        " 0.966286197421\n",
        "\n"
       ]
      },
      {
       "metadata": {},
       "output_type": "display_data",
       "png": "[encoded data removed]",
       "text": [
        "<matplotlib.figure.Figure at 0x1664a780>"
       ]
      }
     ],
     "prompt_number": 13
    },
    {
     "cell_type": "markdown",
     "metadata": {},
     "source": [
      "###max_features"
     ]
    },
    {
     "cell_type": "code",
     "collapsed": false,
     "input": [
      "results = []\n",
      "max_features_options = [\"auto\", None, \"sqrt\", \"log2\", 0.9, 0.2]\n",
      "for max_features in max_features_options:\n",
      "    model = RandomForestRegressor(n_estimators=2048, oob_score=True, n_jobs=-1, random_state=42, max_features=max_features)\n",
      "    model.fit(x_train, y_train)\n",
      "    print max_features, \"option\"\n",
      "    roc = roc_auc_score(y_test, model.predict(x_test))\n",
      "    print \"AUC Score: \", roc\n",
      "    results.append(roc)\n",
      "    print \"\"\n",
      "    \n",
      "pnd.Series(results, max_features_options).plot(kind=\"barh\", xlim=(.95,1.0));    "
     ],
     "language": "python",
     "metadata": {},
     "outputs": [
      {
       "output_type": "stream",
       "stream": "stdout",
       "text": [
        "auto option\n",
        "AUC Score: "
       ]
      },
      {
       "output_type": "stream",
       "stream": "stdout",
       "text": [
        " 0.966814626929\n",
        "\n",
        "None"
       ]
      },
      {
       "output_type": "stream",
       "stream": "stdout",
       "text": [
        " option\n",
        "AUC Score: "
       ]
      },
      {
       "output_type": "stream",
       "stream": "stdout",
       "text": [
        " 0.966814626929\n",
        "\n",
        "sqrt"
       ]
      },
      {
       "output_type": "stream",
       "stream": "stdout",
       "text": [
        " option\n",
        "AUC Score: "
       ]
      },
      {
       "output_type": "stream",
       "stream": "stdout",
       "text": [
        " 0.973367152822\n",
        "\n",
        "log2"
       ]
      },
      {
       "output_type": "stream",
       "stream": "stdout",
       "text": [
        " option\n",
        "AUC Score: "
       ]
      },
      {
       "output_type": "stream",
       "stream": "stdout",
       "text": [
        " 0.973367152822\n",
        "\n",
        "0.9"
       ]
      },
      {
       "output_type": "stream",
       "stream": "stdout",
       "text": [
        " option\n",
        "AUC Score: "
       ]
      },
      {
       "output_type": "stream",
       "stream": "stdout",
       "text": [
        " 0.96829422955\n",
        "\n",
        "0.2"
       ]
      },
      {
       "output_type": "stream",
       "stream": "stdout",
       "text": [
        " option\n",
        "AUC Score: "
       ]
      },
      {
       "output_type": "stream",
       "stream": "stdout",
       "text": [
        " 0.975797928556\n",
        "\n"
       ]
      },
      {
       "metadata": {},
       "output_type": "display_data",
       "png": "[encoded data removed]",
       "text": [
        "<matplotlib.figure.Figure at 0x1914f400>"
       ]
      }
     ],
     "prompt_number": 14
    },
    {
     "cell_type": "markdown",
     "metadata": {},
     "source": [
      "###min_samples_leaf"
     ]
    },
    {
     "cell_type": "code",
     "collapsed": false,
     "input": [
      "results = []\n",
      "min_samples_leaf_options = [1, 2, 3, 4, 5, 6, 7, 8, 9, 10]\n",
      "\n",
      "for min_samples in min_samples_leaf_options:\n",
      "    model = RandomForestRegressor(n_estimators=2048, oob_score=True, n_jobs=-1, random_state=42, max_features=0.2, min_samples_leaf=min_samples)\n",
      "    model.fit(x_train, y_train)\n",
      "    print min_samples, \"min samples\"\n",
      "    roc = roc_auc_score(y_test, model.predict(x_test))\n",
      "    print \"AUC Score: \", roc\n",
      "    results.append(roc)\n",
      "    print \"\"\n",
      "    \n",
      "pnd.Series(results, min_samples_leaf_options).plot();"
     ],
     "language": "python",
     "metadata": {},
     "outputs": [
      {
       "output_type": "stream",
       "stream": "stdout",
       "text": [
        "1 min samples\n",
        "AUC Score: "
       ]
      },
      {
       "output_type": "stream",
       "stream": "stdout",
       "text": [
        " 0.975797928556\n",
        "\n",
        "2"
       ]
      },
      {
       "output_type": "stream",
       "stream": "stdout",
       "text": [
        " min samples\n",
        "AUC Score: "
       ]
      },
      {
       "output_type": "stream",
       "stream": "stdout",
       "text": [
        " 0.975058127246\n",
        "\n",
        "3"
       ]
      },
      {
       "output_type": "stream",
       "stream": "stdout",
       "text": [
        " min samples\n",
        "AUC Score: "
       ]
      },
      {
       "output_type": "stream",
       "stream": "stdout",
       "text": [
        " 0.974846755443\n",
        "\n",
        "4"
       ]
      },
      {
       "output_type": "stream",
       "stream": "stdout",
       "text": [
        " min samples\n",
        "AUC Score: "
       ]
      },
      {
       "output_type": "stream",
       "stream": "stdout",
       "text": [
        " 0.975269499049\n",
        "\n",
        "5"
       ]
      },
      {
       "output_type": "stream",
       "stream": "stdout",
       "text": [
        " min samples\n",
        "AUC Score: "
       ]
      },
      {
       "output_type": "stream",
       "stream": "stdout",
       "text": [
        " 0.975903614458\n",
        "\n",
        "6"
       ]
      },
      {
       "output_type": "stream",
       "stream": "stdout",
       "text": [
        " min samples\n",
        "AUC Score: "
       ]
      },
      {
       "output_type": "stream",
       "stream": "stdout",
       "text": [
        " 0.975903614458\n",
        "\n",
        "7"
       ]
      },
      {
       "output_type": "stream",
       "stream": "stdout",
       "text": [
        " min samples\n",
        "AUC Score: "
       ]
      },
      {
       "output_type": "stream",
       "stream": "stdout",
       "text": [
        " 0.976537729867\n",
        "\n",
        "8"
       ]
      },
      {
       "output_type": "stream",
       "stream": "stdout",
       "text": [
        " min samples\n",
        "AUC Score: "
       ]
      },
      {
       "output_type": "stream",
       "stream": "stdout",
       "text": [
        " 0.975692242655\n",
        "\n",
        "9"
       ]
      },
      {
       "output_type": "stream",
       "stream": "stdout",
       "text": [
        " min samples\n",
        "AUC Score: "
       ]
      },
      {
       "output_type": "stream",
       "stream": "stdout",
       "text": [
        " 0.975269499049\n",
        "\n",
        "10"
       ]
      },
      {
       "output_type": "stream",
       "stream": "stdout",
       "text": [
        " min samples\n",
        "AUC Score: "
       ]
      },
      {
       "output_type": "stream",
       "stream": "stdout",
       "text": [
        " 0.974846755443\n",
        "\n"
       ]
      },
      {
       "metadata": {},
       "output_type": "display_data",
       "png": "[encoded data removed]",
       "text": [
        "<matplotlib.figure.Figure at 0x16bd3a58>"
       ]
      }
     ],
     "prompt_number": 15
    },
    {
     "cell_type": "markdown",
     "metadata": {},
     "source": [
      "###New Base Score with Optimized Model Values"
     ]
    },
    {
     "cell_type": "code",
     "collapsed": false,
     "input": [
      "model = RandomForestRegressor(n_estimators=2048, oob_score=True, n_jobs=-1, random_state=42, max_features=0.2, min_samples_leaf=7)\n",
      "model.fit(x_train, y_train)\n",
      "roc = roc_auc_score(y_test, model.predict(x_test))\n",
      "print \"AUC Score: \", roc"
     ],
     "language": "python",
     "metadata": {},
     "outputs": [
      {
       "output_type": "stream",
       "stream": "stdout",
       "text": [
        "AUC Score:  0.976537729867\n"
       ]
      }
     ],
     "prompt_number": 16
    },
    {
     "cell_type": "markdown",
     "metadata": {},
     "source": [
      "##Optimization Functions"
     ]
    },
    {
     "cell_type": "markdown",
     "metadata": {},
     "source": [
      "###Declaring best value variables"
     ]
    },
    {
     "cell_type": "code",
     "collapsed": false,
     "input": [
      "ne = 0\n",
      "mf = 0\n",
      "msl = 0"
     ],
     "language": "python",
     "metadata": {},
     "outputs": [],
     "prompt_number": 17
    },
    {
     "cell_type": "markdown",
     "metadata": {},
     "source": [
      "###Setting up functions to help with the optimization process"
     ]
    },
    {
     "cell_type": "code",
     "collapsed": false,
     "input": [
      "def nEst():\n",
      "    global ne\n",
      "    ne = 0\n",
      "    oldRoc = 0\n",
      "    results = []\n",
      "    n_est = [5, 6, 7, 8, 9, 10, 11, 12]\n",
      "    for tree in n_est:\n",
      "        trees = 2**tree\n",
      "        model = RandomForestRegressor(trees, oob_score=True, n_jobs=-1, random_state=42)\n",
      "        model.fit(x_train, y_train)\n",
      "        roc = roc_auc_score(y_test, model.predict(x_test))\n",
      "        if roc > oldRoc:\n",
      "            ne = trees\n",
      "            oldRoc = roc"
     ],
     "language": "python",
     "metadata": {},
     "outputs": [],
     "prompt_number": 18
    },
    {
     "cell_type": "code",
     "collapsed": false,
     "input": [
      "def maxFeat():\n",
      "    global ne\n",
      "    global mf\n",
      "    mf = 0\n",
      "    oldRoc = 0\n",
      "    results = []\n",
      "    max_features_options = [\"auto\", None, \"sqrt\", \"log2\", 0.9, 0.2]\n",
      "    for max_features in max_features_options:\n",
      "        model = RandomForestRegressor(n_estimators=ne, oob_score=True, n_jobs=-1, random_state=42, max_features=max_features)\n",
      "        model.fit(x_train, y_train)\n",
      "        roc = roc_auc_score(y_test, model.predict(x_test))       \n",
      "        if roc > oldRoc:\n",
      "            mf = max_features\n",
      "            oldRoc = roc"
     ],
     "language": "python",
     "metadata": {},
     "outputs": [],
     "prompt_number": 19
    },
    {
     "cell_type": "code",
     "collapsed": false,
     "input": [
      "def minSamLeaf():\n",
      "    global ne\n",
      "    global mf\n",
      "    global msl\n",
      "    msl = 0\n",
      "    oldRoc = 0\n",
      "    results = []\n",
      "    min_samples_leaf_options = [1, 2, 3, 4, 5, 6, 7, 8, 9, 10]\n",
      "    for min_samples in min_samples_leaf_options:\n",
      "        model = RandomForestRegressor(n_estimators=ne, oob_score=True, n_jobs=-1, random_state=42, max_features=mf, min_samples_leaf=min_samples)\n",
      "        model.fit(x_train, y_train)\n",
      "        roc = roc_auc_score(y_test, model.predict(x_test))\n",
      "        if roc > oldRoc:\n",
      "            msl = min_samples\n",
      "            oldRoc = roc"
     ],
     "language": "python",
     "metadata": {},
     "outputs": [],
     "prompt_number": 20
    },
    {
     "cell_type": "code",
     "collapsed": false,
     "input": [
      "def optimize():\n",
      "    nEst()\n",
      "    maxFeat()\n",
      "    minSamLeaf()"
     ],
     "language": "python",
     "metadata": {},
     "outputs": [],
     "prompt_number": 21
    },
    {
     "cell_type": "code",
     "collapsed": false,
     "input": [
      "def showScore():\n",
      "    global ne\n",
      "    global mf\n",
      "    global msl\n",
      "    global model\n",
      "    optimize()\n",
      "    model = RandomForestRegressor(n_estimators=ne, oob_score=True, n_jobs=-1, random_state=42, max_features=mf, min_samples_leaf=msl)\n",
      "    model.fit(x_train, y_train)\n",
      "    roc = roc_auc_score(y_test, model.predict(x_test))\n",
      "    print \"n_est:\", ne\n",
      "    print \"max_features:\", mf\n",
      "    print \"min_samples_leaf:\", msl\n",
      "    print \"AUC Score: \", roc"
     ],
     "language": "python",
     "metadata": {},
     "outputs": [],
     "prompt_number": 22
    },
    {
     "cell_type": "code",
     "collapsed": false,
     "input": [
      "def showImportance():\n",
      "    feature_importances = pnd.Series(model.feature_importances_, index=data.columns)\n",
      "    feature_importances.sort()\n",
      "    feature_importances.plot(kind=\"barh\", figsize=(7,6));"
     ],
     "language": "python",
     "metadata": {},
     "outputs": [],
     "prompt_number": 23
    },
    {
     "cell_type": "code",
     "collapsed": false,
     "input": [
      "showScore()\n",
      "showImportance()"
     ],
     "language": "python",
     "metadata": {},
     "outputs": [
      {
       "output_type": "stream",
       "stream": "stdout",
       "text": [
        "n_est: 2048\n",
        "max_features: 0.2\n",
        "min_samples_leaf: 7\n",
        "AUC Score:  0.976537729867\n"
       ]
      },
      {
       "metadata": {},
       "output_type": "display_data",
       "png": "[encoded data removed]",
       "text": [
        "<matplotlib.figure.Figure at 0x156f7c50>"
       ]
      }
     ],
     "prompt_number": 24
    },
    {
     "cell_type": "markdown",
     "metadata": {},
     "source": [
      "##Tweaking Process"
     ]
    },
    {
     "cell_type": "markdown",
     "metadata": {},
     "source": [
      "Now that the model has been optimized and has been made easier to reoptimize, it is time to start dropping some of the variables. I'll drop the id number since that has little importance."
     ]
    },
    {
     "cell_type": "code",
     "collapsed": false,
     "input": [
      "data = data.drop(\"id number\", axis=1)\n",
      "x_train, x_test, y_train, y_test = train_test_split(data, y, test_size=.2)\n",
      "showScore()\n",
      "showImportance()"
     ],
     "language": "python",
     "metadata": {},
     "outputs": [
      {
       "output_type": "stream",
       "stream": "stdout",
       "text": [
        "n_est: 128\n",
        "max_features: 0.2\n",
        "min_samples_leaf: 6\n",
        "AUC Score:  0.994725485495\n"
       ]
      },
      {
       "metadata": {},
       "output_type": "display_data",
       "png": "[encoded data removed]",
       "text": [
        "<matplotlib.figure.Figure at 0x16416470>"
       ]
      }
     ],
     "prompt_number": 25
    },
    {
     "cell_type": "markdown",
     "metadata": {},
     "source": [
      "Mitoses looks like it has little importance to the current model so I will drop it and reoptimize the model."
     ]
    },
    {
     "cell_type": "code",
     "collapsed": false,
     "input": [
      "data = data.drop(\"mitoses\", axis=1)\n",
      "x_train, x_test, y_train, y_test = train_test_split(data, y, test_size=.2)\n",
      "showScore()\n",
      "showImportance()"
     ],
     "language": "python",
     "metadata": {},
     "outputs": [
      {
       "output_type": "stream",
       "stream": "stdout",
       "text": [
        "n_est: 2048\n",
        "max_features: auto\n",
        "min_samples_leaf: 1\n",
        "AUC Score:  0.982444444444\n"
       ]
      },
      {
       "metadata": {},
       "output_type": "display_data",
       "png": "[encoded data removed]",
       "text": [
        "<matplotlib.figure.Figure at 0x153e62b0>"
       ]
      }
     ],
     "prompt_number": 26
    },
    {
     "cell_type": "markdown",
     "metadata": {},
     "source": [
      "The AUC score actually dropped a little and it looks like the model put heavier emphasis on Uniformity of Cell Size.  Before I write this off as a bad decision, I'll go ahead and drop one more feature just to see how that will affect the model."
     ]
    },
    {
     "cell_type": "code",
     "collapsed": false,
     "input": [
      "data = data.drop(\"epithelial_cell_size\", axis=1)\n",
      "x_train, x_test, y_train, y_test = train_test_split(data, y, test_size=.2)\n",
      "showScore()\n",
      "showImportance()"
     ],
     "language": "python",
     "metadata": {},
     "outputs": [
      {
       "output_type": "stream",
       "stream": "stdout",
       "text": [
        "n_est: 1024\n",
        "max_features: auto\n",
        "min_samples_leaf: 1\n",
        "AUC Score:  0.983111111111\n"
       ]
      },
      {
       "metadata": {},
       "output_type": "display_data",
       "png": "[encoded data removed]",
       "text": [
        "<matplotlib.figure.Figure at 0x1578be10>"
       ]
      }
     ],
     "prompt_number": 26
    },
    {
     "cell_type": "markdown",
     "metadata": {},
     "source": [
      "With the AUC being exactly 1.0, I don't see it getting any better than that so I will leave the model there."
     ]
    },
    {
     "cell_type": "code",
     "collapsed": false,
     "input": [],
     "language": "python",
     "metadata": {},
     "outputs": []
    }
   ],
   "metadata": {}
  }
 ]
}